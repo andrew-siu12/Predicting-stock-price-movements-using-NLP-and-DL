{
 "cells": [
  {
   "cell_type": "code",
   "execution_count": 60,
   "metadata": {
    "ExecuteTime": {
     "end_time": "2019-07-29T21:23:13.007854Z",
     "start_time": "2019-07-29T21:23:13.004864Z"
    }
   },
   "outputs": [],
   "source": [
    "import os\n",
    "import datetime\n",
    "import numpy as np\n",
    "import re\n",
    "import warnings\n",
    "import pandas as pd\n",
    "\n",
    "warnings.filterwarnings(\"ignore\")"
   ]
  },
  {
   "cell_type": "code",
   "execution_count": 140,
   "metadata": {
    "ExecuteTime": {
     "end_time": "2019-07-29T22:04:09.630564Z",
     "start_time": "2019-07-29T22:04:09.626575Z"
    }
   },
   "outputs": [],
   "source": [
    "def load_data(data_path):\n",
    "    \n",
    "    stock_news_df = pd.read_csv(data_path + 'news_reuters.csv', header=None,\n",
    "                                names=['tickers', 'company', 'date', 'headline', 'first_sent', 'priority'])\n",
    "    stock_price_df = pd.read_json(data_path + 'stockprices.json')\n",
    "    \n",
    "    return stock_news_df, stock_price_df"
   ]
  },
  {
   "cell_type": "code",
   "execution_count": 151,
   "metadata": {
    "ExecuteTime": {
     "end_time": "2019-07-29T22:05:42.742614Z",
     "start_time": "2019-07-29T22:05:42.736596Z"
    }
   },
   "outputs": [],
   "source": [
    "def transform_stock_price(price_df, duration):\n",
    "\n",
    "    transform_df = price_df[duration].apply(pd.Series)\n",
    "    transform_df = transform_df.stack().rename('price_change' + '_' + duration).reset_index()\n",
    "    transform_df.rename(columns={'level_0': 'tickers', 'level_1': 'date'}, inplace=True)\n",
    "    transform_df.date = transform_df.date.astype('int64')\n",
    "    \n",
    "    if duration == 'short':\n",
    "        transform_df['signal'] = transform_df['price_change' + '_' + duration] \\\n",
    "        .map(lambda x: \"stay\" if -1 < x < 1 else (\"up\" if x > 1 else \"down\"))\n",
    "    return transform_df\n",
    "\n",
    "def combine_stock_news(news_df, price_df):\n",
    "    \n",
    "    combined_df = news_df.copy()\n",
    "    \n",
    "    durations = price_df.columns\n",
    "    for duration in durations:\n",
    "        price_duration_df = transform_stock_price(price_df, duration)\n",
    "        combined_df = pd.merge(left=combined_df, right=price_duration_df,\n",
    "                       on=['date', 'tickers'], how='inner')\n",
    "    return combined_df\n",
    "    "
   ]
  },
  {
   "cell_type": "code",
   "execution_count": 152,
   "metadata": {
    "ExecuteTime": {
     "end_time": "2019-07-29T22:05:56.669872Z",
     "start_time": "2019-07-29T22:05:56.020585Z"
    }
   },
   "outputs": [],
   "source": [
    "data_path = \"inputs/\"\n",
    "news_df, price_df = load_data(data_path)\n",
    "\n",
    "combined_df = combine_stock_news(news_df, price_df)\n"
   ]
  },
  {
   "cell_type": "code",
   "execution_count": null,
   "metadata": {},
   "outputs": [],
   "source": []
  }
 ],
 "metadata": {
  "kernelspec": {
   "display_name": "Python 3",
   "language": "python",
   "name": "python3"
  },
  "language_info": {
   "codemirror_mode": {
    "name": "ipython",
    "version": 3
   },
   "file_extension": ".py",
   "mimetype": "text/x-python",
   "name": "python",
   "nbconvert_exporter": "python",
   "pygments_lexer": "ipython3",
   "version": "3.7.3"
  },
  "varInspector": {
   "cols": {
    "lenName": 16,
    "lenType": 16,
    "lenVar": 40
   },
   "kernels_config": {
    "python": {
     "delete_cmd_postfix": "",
     "delete_cmd_prefix": "del ",
     "library": "var_list.py",
     "varRefreshCmd": "print(var_dic_list())"
    },
    "r": {
     "delete_cmd_postfix": ") ",
     "delete_cmd_prefix": "rm(",
     "library": "var_list.r",
     "varRefreshCmd": "cat(var_dic_list()) "
    }
   },
   "types_to_exclude": [
    "module",
    "function",
    "builtin_function_or_method",
    "instance",
    "_Feature"
   ],
   "window_display": false
  }
 },
 "nbformat": 4,
 "nbformat_minor": 2
}
