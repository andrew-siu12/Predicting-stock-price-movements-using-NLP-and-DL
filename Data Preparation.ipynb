{
 "cells": [
  {
   "cell_type": "markdown",
   "metadata": {
    "toc": true
   },
   "source": [
    "<h1>Table of Contents<span class=\"tocSkip\"></span></h1>\n",
    "<div class=\"toc\"><ul class=\"toc-item\"></ul></div>"
   ]
  },
  {
   "cell_type": "code",
   "execution_count": 16,
   "metadata": {
    "ExecuteTime": {
     "end_time": "2019-08-08T11:29:46.485857Z",
     "start_time": "2019-08-08T11:29:46.480849Z"
    }
   },
   "outputs": [],
   "source": [
    "import os\n",
    "import datetime\n",
    "import numpy as np\n",
    "import re\n",
    "import warnings\n",
    "import pandas as pd\n",
    "import calendar\n",
    "import pickle\n",
    "from spacy.lang.en.stop_words import STOP_WORDS\n",
    "from spacy.lang.en import English\n",
    "import dask.dataframe as dd\n",
    "from dask.diagnostics import ProgressBar \n",
    "from dask.multiprocessing import get\n",
    "import spacy\n",
    "\n",
    "warnings.filterwarnings(\"ignore\")"
   ]
  },
  {
   "cell_type": "code",
   "execution_count": 17,
   "metadata": {
    "ExecuteTime": {
     "end_time": "2019-08-08T11:29:47.851564Z",
     "start_time": "2019-08-08T11:29:47.847575Z"
    }
   },
   "outputs": [],
   "source": [
    "def load_data(data_path):\n",
    "    \n",
    "    stock_news_df = pd.read_csv(data_path + 'news_reuters.csv', header=None,\n",
    "                                names=['tickers', 'company', 'date', 'headline', 'first_sent', 'priority'])\n",
    "    stock_price_df = pd.read_json(data_path + 'stockReturns.json')\n",
    "    \n",
    "    return stock_news_df, stock_price_df"
   ]
  },
  {
   "cell_type": "code",
   "execution_count": 75,
   "metadata": {
    "ExecuteTime": {
     "end_time": "2019-08-08T12:32:46.979808Z",
     "start_time": "2019-08-08T12:32:46.964870Z"
    }
   },
   "outputs": [],
   "source": [
    "def transform_stock_price(price_df, duration):\n",
    "\n",
    "    transform_df = price_df[duration].apply(pd.Series)\n",
    "    transform_df = transform_df.stack().rename('price_change' + '_' + duration).reset_index()\n",
    "    transform_df.rename(columns={'level_0': 'tickers', 'level_1': 'date'}, inplace=True)\n",
    "    transform_df.date = transform_df.date.astype('int64')\n",
    "    \n",
    "    if duration == 'short':\n",
    "        transform_df['signal'] = transform_df['price_change' + '_' + duration] \\\n",
    "        .map(lambda x: \"stay\" if -1 < x < 1 else (\"up\" if x > 1 else \"down\"))\n",
    "    return transform_df\n",
    "\n",
    "def combine_stock_news(news_df, price_df):\n",
    "    \n",
    "    combined_df = news_df.copy()\n",
    "    \n",
    "    durations = price_df.columns\n",
    "    for duration in durations:\n",
    "        price_duration_df = transform_stock_price(price_df, duration)\n",
    "        combined_df = pd.merge(left=combined_df, right=price_duration_df,\n",
    "                       on=['date', 'tickers'], how='inner')\n",
    "    return combined_df\n",
    "\n",
    "def to_csv(data_path):\n",
    "    \n",
    "    news_df, price_df = load_data(data_path)\n",
    "    \n",
    "    combined_df = combine_stock_news(news_df, price_df)\n",
    "    \n",
    "    combined_df.to_csv(data_path + \"news_price_df.csv\")\n",
    "    \n",
    "    \n",
    "def cleanup_text(sent):\n",
    "    \n",
    "    monthStrings = list(calendar.month_name)[1:] + list(calendar.month_abbr)[1:]\n",
    "    monthPattern = '|'.join(monthStrings)\n",
    "    sent = re.sub(r'\\s+', ' ', sent).strip()\n",
    "    sent = re.sub(r'U.S.', 'United States', sent)\n",
    "    sent = re.sub(r'CORRECTED-', '', sent)\n",
    "    sent = re.sub(r'^(\\W?[A-Z\\s\\d]+\\b-?)', '', sent)\n",
    "    sent = re.sub(r'^ ?\\W ', '', sent)\n",
    "    sent = re.sub(r'(\\s*-+\\s*[A-Za-z]+)$', '', sent)\n",
    "    sent = re.sub(r\"(\\'+[A-Z1-9]+\\'*)$\", '', sent)\n",
    "    sent = re.sub(r\"[$]+\", '', sent)\n",
    "    sent = re.sub(r'({}) \\d+'.format(monthPattern), '', sent)\n",
    "    \n",
    "    sent = sent.lower().strip()\n",
    "    \n",
    "    return sent\n",
    "\n",
    "def spacy_tokenize(df, col):\n",
    "    \n",
    "    nlp = English()\n",
    "    STOP_WORDS = construct_stop_words()\n",
    "    sentences = df[col].tolist()\n",
    "    docs = []\n",
    "    for sent in sentences:\n",
    "        docs.append(cleanup_text(sent))\n",
    "\n",
    "    def token_filter(token, stop_words):\n",
    "        return not (token.is_punct or token.is_stop or token.is_space)\n",
    "\n",
    "    try:\n",
    "        filtered_tokens = []\n",
    "        for doc in nlp.pipe(docs):\n",
    "            tokens = [tok.lemma_ for tok in doc if token_filter(tok, STOP_WORDS)]\n",
    "            tokens = [tok for tok in tokens if not re.search('[\\$1-9]+', tok)]\n",
    "            filtered_tokens.append(tokens)\n",
    "            \n",
    "        return filtered_tokens\n",
    "    except Exception as e:\n",
    "        raise e\n",
    "\n",
    "\n",
    "\n",
    "def construct_stop_words():\n",
    "    \n",
    "    STOP_WORDS.add(\"uk\")\n",
    "    STOP_WORDS.add(\"united\")\n",
    "    STOP_WORDS.add(\"states\")\n",
    "    STOP_WORDS.add(\"america\")\n",
    "    \n",
    "    return STOP_WORDS"
   ]
  },
  {
   "cell_type": "code",
   "execution_count": 66,
   "metadata": {
    "ExecuteTime": {
     "end_time": "2019-08-08T12:26:45.093976Z",
     "start_time": "2019-08-08T12:26:43.013509Z"
    }
   },
   "outputs": [],
   "source": [
    "data_path = \"inputs/\"\n",
    "news_df, price_df = load_data(data_path)\n",
    "\n",
    "combined_df = combine_stock_news(news_df, price_df)\n",
    "to_csv(data_path)"
   ]
  },
  {
   "cell_type": "code",
   "execution_count": 67,
   "metadata": {
    "ExecuteTime": {
     "end_time": "2019-08-08T12:26:49.624835Z",
     "start_time": "2019-08-08T12:26:49.617854Z"
    }
   },
   "outputs": [
    {
     "data": {
      "text/plain": [
       "(52298, 10)"
      ]
     },
     "execution_count": 67,
     "metadata": {},
     "output_type": "execute_result"
    }
   ],
   "source": [
    "combined_df.shape"
   ]
  },
  {
   "cell_type": "code",
   "execution_count": 68,
   "metadata": {
    "ExecuteTime": {
     "end_time": "2019-08-08T12:27:06.970648Z",
     "start_time": "2019-08-08T12:26:54.016096Z"
    }
   },
   "outputs": [],
   "source": [
    "filtered_tokens = spacy_tokenize(combined_df, 'headline')"
   ]
  },
  {
   "cell_type": "code",
   "execution_count": 69,
   "metadata": {
    "ExecuteTime": {
     "end_time": "2019-08-08T12:27:11.406674Z",
     "start_time": "2019-08-08T12:27:11.357806Z"
    }
   },
   "outputs": [],
   "source": [
    "combined_df1 = combined_df.copy()\n",
    "combined_df1['headlines_tokens'] = filtered_tokens\n",
    "combined_df1['head_tok_len'] = combined_df1['headlines_tokens'].map(lambda x: len(x))"
   ]
  },
  {
   "cell_type": "code",
   "execution_count": 70,
   "metadata": {
    "ExecuteTime": {
     "end_time": "2019-08-08T12:27:15.946543Z",
     "start_time": "2019-08-08T12:27:15.935552Z"
    }
   },
   "outputs": [
    {
     "data": {
      "text/plain": [
       "down    42596\n",
       "stay     7866\n",
       "up       1836\n",
       "Name: signal, dtype: int64"
      ]
     },
     "execution_count": 70,
     "metadata": {},
     "output_type": "execute_result"
    }
   ],
   "source": [
    "combined_df1['signal'].value_counts()"
   ]
  },
  {
   "cell_type": "code",
   "execution_count": null,
   "metadata": {},
   "outputs": [],
   "source": []
  },
  {
   "cell_type": "code",
   "execution_count": null,
   "metadata": {},
   "outputs": [],
   "source": []
  },
  {
   "cell_type": "code",
   "execution_count": null,
   "metadata": {},
   "outputs": [],
   "source": []
  },
  {
   "cell_type": "code",
   "execution_count": 76,
   "metadata": {
    "ExecuteTime": {
     "end_time": "2019-08-08T12:35:14.948721Z",
     "start_time": "2019-08-08T12:35:08.252799Z"
    }
   },
   "outputs": [],
   "source": [
    "nlp = spacy.load('en_core_web_lg')\n"
   ]
  },
  {
   "cell_type": "code",
   "execution_count": 77,
   "metadata": {
    "ExecuteTime": {
     "end_time": "2019-08-08T12:36:20.239335Z",
     "start_time": "2019-08-08T12:36:16.002618Z"
    }
   },
   "outputs": [],
   "source": [
    "sent_list = combined_df['headline'].tolist()\n",
    "cleaned_sent = []\n",
    "for sent in sent_list:\n",
    "    cleaned_sent.append(cleanup_text(sent))"
   ]
  },
  {
   "cell_type": "code",
   "execution_count": 80,
   "metadata": {
    "ExecuteTime": {
     "end_time": "2019-08-08T12:40:17.180236Z",
     "start_time": "2019-08-08T12:39:01.347908Z"
    }
   },
   "outputs": [],
   "source": [
    "pos_count = {}\n",
    "for doc in nlp.pipe(cleaned_sent):\n",
    "    for token in doc:\n",
    "        \n",
    "        if token.is_stop or token.is_punct or token.is_space:\n",
    "            continue\n",
    "        \n",
    "        if token.pos_ == 'VERB':\n",
    "            \n",
    "            if token.lemma_ in pos_count:\n",
    "                pos_count[token.lemma_] += 1\n",
    "            else:\n",
    "                pos_count[token.lemma_] = 1"
   ]
  },
  {
   "cell_type": "code",
   "execution_count": 81,
   "metadata": {
    "ExecuteTime": {
     "end_time": "2019-08-08T12:40:19.439402Z",
     "start_time": "2019-08-08T12:40:19.427435Z"
    }
   },
   "outputs": [
    {
     "name": "stdout",
     "output_type": "stream",
     "text": [
      "top 10 VERBs [('say', 3767), ('buy', 1495), ('rise', 1022), ('see', 1016), ('sell', 904), ('pay', 881), ('fall', 803), ('launch', 751), ('set', 694), ('win', 685), ('hit', 674), ('announce', 670), ('cut', 665), ('raise', 659), ('seek', 623), ('hire', 532), ('expect', 525), ('boost', 523), ('take', 519), ('beat', 517), ('settle', 503), ('open', 490), ('offer', 475), ('expand', 454), ('end', 448), ('plan', 442), ('face', 438), ('approve', 431), ('report', 430), ('lead', 412), ('drop', 406), ('weigh', 404), ('sue', 402), ('add', 394), ('get', 394), ('invest', 362), ('help', 347), ('lose', 345), ('join', 326), ('feed', 301), ('lift', 297), ('drive', 296), ('look', 294), ('reject', 288), ('start', 287), ('extend', 285), ('jump', 284), ('update', 280), ('ask', 277), ('agree', 269)]\n"
     ]
    }
   ],
   "source": [
    "print(\"top 10 VERBs {}\".format(sorted(pos_count.items(), key=lambda kv: kv[1], reverse=True)[:50]))\n"
   ]
  },
  {
   "cell_type": "code",
   "execution_count": null,
   "metadata": {},
   "outputs": [],
   "source": []
  }
 ],
 "metadata": {
  "kernelspec": {
   "display_name": "Python 3",
   "language": "python",
   "name": "python3"
  },
  "language_info": {
   "codemirror_mode": {
    "name": "ipython",
    "version": 3
   },
   "file_extension": ".py",
   "mimetype": "text/x-python",
   "name": "python",
   "nbconvert_exporter": "python",
   "pygments_lexer": "ipython3",
   "version": "3.7.3"
  },
  "toc": {
   "base_numbering": 1,
   "nav_menu": {},
   "number_sections": true,
   "sideBar": true,
   "skip_h1_title": false,
   "title_cell": "Table of Contents",
   "title_sidebar": "Contents",
   "toc_cell": true,
   "toc_position": {},
   "toc_section_display": true,
   "toc_window_display": true
  },
  "varInspector": {
   "cols": {
    "lenName": 16,
    "lenType": 16,
    "lenVar": 40
   },
   "kernels_config": {
    "python": {
     "delete_cmd_postfix": "",
     "delete_cmd_prefix": "del ",
     "library": "var_list.py",
     "varRefreshCmd": "print(var_dic_list())"
    },
    "r": {
     "delete_cmd_postfix": ") ",
     "delete_cmd_prefix": "rm(",
     "library": "var_list.r",
     "varRefreshCmd": "cat(var_dic_list()) "
    }
   },
   "types_to_exclude": [
    "module",
    "function",
    "builtin_function_or_method",
    "instance",
    "_Feature"
   ],
   "window_display": false
  }
 },
 "nbformat": 4,
 "nbformat_minor": 2
}
