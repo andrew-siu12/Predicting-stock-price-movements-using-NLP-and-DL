{
 "cells": [
  {
   "cell_type": "code",
   "execution_count": 11,
   "metadata": {
    "ExecuteTime": {
     "end_time": "2019-07-29T19:46:25.022978Z",
     "start_time": "2019-07-29T19:46:25.019986Z"
    }
   },
   "outputs": [],
   "source": [
    "import json\n",
    "import datetime\n",
    "from math import log"
   ]
  },
  {
   "cell_type": "code",
   "execution_count": 12,
   "metadata": {
    "ExecuteTime": {
     "end_time": "2019-07-29T19:46:25.394154Z",
     "start_time": "2019-07-29T19:46:25.391170Z"
    }
   },
   "outputs": [],
   "source": [
    "# input file name: ./input/stockPrices_raw.json\n",
    "# output file name: ./input/stockReturns.json\n",
    "# json structure: crawl daily price data from yahoo finance\n",
    "#          term (short/mid/long)\n",
    "#         /         |         \\\n",
    "#   ticker A   ticker B   ticker C\n",
    "#      /   \\      /   \\      /   \\\n",
    "#  date1 date2 date1 date2 date1 date2\n",
    "#\n",
    "# Note: short return: adjClose/open - 1\n",
    "#       mid return: adjClose/adjClose(7 days ago) - 1\n",
    "#       long return: adjClose/adjClose(28 days ago) - 1"
   ]
  },
  {
   "cell_type": "code",
   "execution_count": 23,
   "metadata": {
    "ExecuteTime": {
     "end_time": "2019-07-29T20:01:07.937143Z",
     "start_time": "2019-07-29T20:01:07.924177Z"
    }
   },
   "outputs": [],
   "source": [
    "def calc_mid_long_return(ticker, date, delta, priceSet):\n",
    "    baseDate = datetime.datetime.strptime(date, \"%Y-%m-%d\")\n",
    "    prevDate = (baseDate - datetime.timedelta(days=delta)).strftime(\"%Y-%m-%d\")\n",
    "    nextDate = (baseDate + datetime.timedelta(days=1)).strftime(\"%Y-%m-%d\")\n",
    "    if delta == 1:\n",
    "        wkday = baseDate.weekday()\n",
    "        if wkday == 0: # Monday\n",
    "            prevDate = (baseDate - datetime.timedelta(days=3)).strftime(\"%Y-%m-%d\")\n",
    "        elif wkday == 4: # Friday\n",
    "            nextDate = (baseDate + datetime.timedelta(days=3)).strftime(\"%Y-%m-%d\")\n",
    "        elif wkday == 5: # Saturday\n",
    "            prevDate = (baseDate - datetime.timedelta(days=1)).strftime(\"%Y-%m-%d\")\n",
    "            nextDate = (baseDate + datetime.timedelta(days=2)).strftime(\"%Y-%m-%d\")\n",
    "        elif wkday == 6: # Sunday\n",
    "            prevDate = (baseDate - datetime.timedelta(days=2)).strftime(\"%Y-%m-%d\")\n",
    "            nextDate = (baseDate + datetime.timedelta(days=1)).strftime(\"%Y-%m-%d\")\n",
    "\n",
    "    try:\n",
    "        if delta == 1:\n",
    "            return_self = (priceSet[ticker]['adjClose'][date] - priceSet[ticker]['open'][date]) / priceSet[ticker]['open'][date]\n",
    "            return_sp500 = (priceSet['^GSPC']['adjClose'][date] - priceSet['^GSPC']['open'][date]) / priceSet['^GSPC']['open'][date]\n",
    "            return_self_per = round(return_self, 4) * 100\n",
    "            return_sp500_per = round(return_sp500, 4) * 100\n",
    "        \n",
    "        else:\n",
    "            return_self = (priceSet[ticker]['adjClose'][date] - priceSet[ticker]['adjClose'][prevDate]) / priceSet[ticker]['adjClose'][prevDate]\n",
    "            return_sp500 = (priceSet['^GSPC']['adjClose'][date] - priceSet['^GSPC']['adjClose'][prevDate]) / priceSet['^GSPC']['adjClose'][prevDate]\n",
    "            return_self_per = round(return_self, 4) * 100\n",
    "            return_sp500_per = round(return_sp500, 4) * 100\n",
    "            \n",
    "        return True, round((return_self_per - return_sp500_per), 4) # relative return\n",
    "    except:\n",
    "        return False, 0\n",
    "\n",
    "def main():\n",
    "    raw_price_file = 'inputs/stockPrices_raw.json'\n",
    "    with open(raw_price_file) as file:\n",
    "        print(\"Loading price info ...\")\n",
    "        priceSet = json.load(file)\n",
    "        dateSet = priceSet['AAPL']['adjClose'].keys()\n",
    "\n",
    "    returns = {'short': {}, 'mid': {}, 'long': {}} # 1-depth dictionary\n",
    "    for num, ticker in enumerate(priceSet):\n",
    "        print(num, ticker)\n",
    "        for term in ['short', 'mid', 'long']:\n",
    "            returns[term][ticker] = {} # 2-depth dictionary\n",
    "        for day in dateSet:\n",
    "            date = datetime.datetime.strptime(day, \"%Y-%m-%d\").strftime(\"%Y%m%d\") # change date 2014-01-01 to 20140101\n",
    "            tag_short, return_short = calc_mid_long_return(ticker, day, 1, priceSet)\n",
    "            tag_mid, return_mid = calc_mid_long_return(ticker, day, 7, priceSet)\n",
    "            tag_long, return_long = calc_mid_long_return(ticker, day, 28, priceSet)\n",
    "            if tag_short:\n",
    "                returns['short'][ticker][date] = return_short\n",
    "            if tag_mid:\n",
    "                returns['mid'][ticker][date] = return_mid\n",
    "            if tag_long:\n",
    "                returns['long'][ticker][date] = return_long\n",
    "\n",
    "    with open('./inputs/stockReturns.json', 'w') as outfile:\n",
    "        json.dump(returns, outfile, indent=4)\n"
   ]
  },
  {
   "cell_type": "code",
   "execution_count": 24,
   "metadata": {
    "ExecuteTime": {
     "end_time": "2019-07-29T20:01:25.402824Z",
     "start_time": "2019-07-29T20:01:17.077084Z"
    }
   },
   "outputs": [
    {
     "name": "stdout",
     "output_type": "stream",
     "text": [
      "Loading price info ...\n",
      "0 ^GSPC\n",
      "1 ADBE\n",
      "2 GOOGL\n",
      "3 AMZN\n",
      "4 AMGN\n",
      "5 AAPL\n",
      "6 AVGO\n",
      "7 CSCO\n",
      "8 CMCSA\n",
      "9 COST\n",
      "10 FB\n",
      "11 INTC\n",
      "12 MSFT\n",
      "13 NFLX\n",
      "14 PYPL\n",
      "15 PEP\n",
      "16 SBUX\n",
      "17 TXN\n",
      "18 ABT\n",
      "19 ACN\n",
      "20 BABA\n",
      "21 BUD\n",
      "22 T\n",
      "23 BAC\n",
      "24 BBL\n",
      "25 BA\n",
      "26 BP\n",
      "27 CVX\n",
      "28 CHL\n",
      "29 C\n",
      "30 KO\n",
      "31 XOM\n",
      "32 FMX\n",
      "33 HD\n",
      "34 HON\n",
      "35 HSBC\n",
      "36 IBM\n",
      "37 JPM\n",
      "38 JNJ\n",
      "39 LIN\n",
      "40 MA\n",
      "41 MCD\n",
      "42 MDT\n",
      "43 MRK\n",
      "44 NKE\n",
      "45 NVS\n",
      "46 NVO\n",
      "47 ORCL\n",
      "48 PFE\n",
      "49 PM\n",
      "50 PG\n",
      "51 RY\n",
      "52 CRM\n",
      "53 SAP\n",
      "54 TSM\n",
      "55 TMO\n",
      "56 TD\n",
      "57 TOT\n",
      "58 TM\n",
      "59 UN\n",
      "60 UL\n",
      "61 UNP\n",
      "62 UTX\n",
      "63 UNH\n",
      "64 VZ\n",
      "65 V\n",
      "66 WMT\n",
      "67 DIS\n",
      "68 WFC\n"
     ]
    }
   ],
   "source": [
    "if __name__ == \"__main__\":\n",
    "    main()"
   ]
  },
  {
   "cell_type": "code",
   "execution_count": null,
   "metadata": {},
   "outputs": [],
   "source": []
  }
 ],
 "metadata": {
  "kernelspec": {
   "display_name": "Python 3",
   "language": "python",
   "name": "python3"
  },
  "language_info": {
   "codemirror_mode": {
    "name": "ipython",
    "version": 3
   },
   "file_extension": ".py",
   "mimetype": "text/x-python",
   "name": "python",
   "nbconvert_exporter": "python",
   "pygments_lexer": "ipython3",
   "version": "3.7.3"
  },
  "varInspector": {
   "cols": {
    "lenName": 16,
    "lenType": 16,
    "lenVar": 40
   },
   "kernels_config": {
    "python": {
     "delete_cmd_postfix": "",
     "delete_cmd_prefix": "del ",
     "library": "var_list.py",
     "varRefreshCmd": "print(var_dic_list())"
    },
    "r": {
     "delete_cmd_postfix": ") ",
     "delete_cmd_prefix": "rm(",
     "library": "var_list.r",
     "varRefreshCmd": "cat(var_dic_list()) "
    }
   },
   "types_to_exclude": [
    "module",
    "function",
    "builtin_function_or_method",
    "instance",
    "_Feature"
   ],
   "window_display": false
  }
 },
 "nbformat": 4,
 "nbformat_minor": 2
}
