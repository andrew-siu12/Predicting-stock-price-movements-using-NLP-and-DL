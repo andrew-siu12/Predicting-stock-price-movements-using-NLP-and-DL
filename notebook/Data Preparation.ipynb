{
 "cells": [
  {
   "cell_type": "markdown",
   "metadata": {
    "toc": true
   },
   "source": [
    "<h1>Table of Contents<span class=\"tocSkip\"></span></h1>\n",
    "<div class=\"toc\"><ul class=\"toc-item\"></ul></div>"
   ]
  },
  {
   "cell_type": "code",
   "execution_count": 14,
   "metadata": {
    "ExecuteTime": {
     "end_time": "2019-09-05T12:17:58.791829Z",
     "start_time": "2019-09-05T12:17:58.787824Z"
    }
   },
   "outputs": [],
   "source": [
    "import os\n",
    "import datetime\n",
    "import numpy as np\n",
    "import re\n",
    "import warnings\n",
    "import pandas as pd\n",
    "import calendar\n",
    "import pickle\n",
    "from spacy.lang.en.stop_words import STOP_WORDS\n",
    "from spacy.lang.en import English\n",
    "import spacy\n",
    "\n",
    "import matplotlib.pyplot as plt\n",
    "import seaborn as sns\n",
    "\n",
    "warnings.filterwarnings(\"ignore\")"
   ]
  },
  {
   "cell_type": "code",
   "execution_count": 15,
   "metadata": {
    "ExecuteTime": {
     "end_time": "2019-09-05T12:18:00.948954Z",
     "start_time": "2019-09-05T12:18:00.931997Z"
    }
   },
   "outputs": [],
   "source": [
    "def load_data(data_path):\n",
    "    \n",
    "    stock_news_df = pd.read_csv(data_path + 'news_reuters.csv', header=None,\n",
    "                                names=['tickers', 'company', 'date', 'headline', 'first_sent', 'priority'])\n",
    "    stock_price_df = pd.read_json(data_path + 'stockReturns.json')\n",
    "    \n",
    "    return stock_news_df, stock_price_df\n",
    "\n",
    "\n",
    "def transform_stock_price(price_df, duration):\n",
    "\n",
    "    transform_df = price_df[duration].apply(pd.Series)\n",
    "    transform_df = transform_df.stack().rename('price_change' + '_' + duration).reset_index()\n",
    "    transform_df.rename(columns={'level_0': 'tickers', 'level_1': 'date'}, inplace=True)\n",
    "    transform_df.date = transform_df.date.astype('int64')\n",
    "    \n",
    "    if duration == 'mid':\n",
    "        transform_df['signal'] = transform_df['price_change' + '_' + duration] \\\n",
    "        .map(lambda x: \"stay\" if -1 < x < 1 else (\"up\" if x > 1 else \"down\"))\n",
    "    return transform_df\n",
    "\n",
    "\n",
    "def combine_stock_news(news_df, price_df):\n",
    "    \n",
    "    combined_df = news_df.copy()\n",
    "    \n",
    "    durations = price_df.columns\n",
    "    for duration in durations:\n",
    "        price_duration_df = transform_stock_price(price_df, duration)\n",
    "        combined_df = pd.merge(left=combined_df, right=price_duration_df,\n",
    "                       on=['date', 'tickers'], how='inner')\n",
    "    return combined_df\n",
    "\n",
    "\n",
    "def to_csv(data_path):\n",
    "    \n",
    "    news_df, price_df = load_data(data_path)\n",
    "    \n",
    "    combined_df = combine_stock_news(news_df, price_df)\n",
    "    \n",
    "    combined_df.to_csv(data_path + \"news_price_df.csv\")\n",
    "    \n",
    "    \n",
    "\n",
    "def cleanup_text(sent):\n",
    "    \n",
    "    monthStrings = list(calendar.month_name)[1:] + list(calendar.month_abbr)[1:]\n",
    "    monthPattern = '|'.join(monthStrings)\n",
    "    sent = re.sub(r'\\s+', ' ', sent).strip()\n",
    "    sent = re.sub(r'\\/+', '', sent)\n",
    "    sent = re.sub(r'U.S.', 'United States', sent)\n",
    "    sent = re.sub(r'CORRECTED-', '', sent)\n",
    "    sent = re.sub(r'^(\\W?[A-Z\\s\\d]+\\b-?)', '', sent)\n",
    "    sent = re.sub(r'^ ?\\W ', '', sent)\n",
    "    sent = re.sub(r'(\\s*-+\\s*[A-Za-z]+)$', '', sent)\n",
    "    sent = re.sub(r\"(\\'+[A-Z1-9]+\\'*)$\", '', sent)\n",
    "    sent = re.sub(r\"[$'|]+\", '', sent)\n",
    "    sent = re.sub(r'({}) \\d+'.format(monthPattern), '', sent)\n",
    "    \n",
    "    sent = sent.lower().strip()\n",
    "    \n",
    "    return sent\n",
    "\n",
    "\n",
    "def spacy_tokenize(df, col):\n",
    "    \n",
    "    nlp = English()\n",
    "    STOP_WORDS = construct_stop_words()\n",
    "    sentences = df[col].tolist()\n",
    "    docs = []\n",
    "    for sent in sentences:\n",
    "        docs.append(cleanup_text(sent))\n",
    "\n",
    "    def token_filter(token, stop_words):\n",
    "        return not (token.is_punct or token.is_stop or token.is_space)\n",
    "\n",
    "    try:\n",
    "        filtered_tokens = []\n",
    "        for doc in nlp.pipe(docs):\n",
    "            tokens = [tok.lemma_ for tok in doc if token_filter(tok, STOP_WORDS)]\n",
    "            tokens = [tok for tok in tokens if not re.search('[\\$1-9]+', tok)]\n",
    "            filtered_tokens.append(tokens)\n",
    "            \n",
    "        return filtered_tokens\n",
    "    except Exception as e:\n",
    "        raise e\n",
    "\n",
    "\n",
    "def construct_stop_words():\n",
    "    stop_words_list = [\"uk\", \"ceo\", \"apple\", \"wal\",  \"st\", \"q1\", \"q2\", \"q3\", \"q4\", \n",
    "                       \"bp\", \"wednesday\", \"tuesday\", \"monday\", \"thursday\", \"friday\", \"sept\", \"johnson\", \"inc\", \n",
    "                       \"david\", \"amazon.com\"]\n",
    "    \n",
    "    for words in stop_words_list:\n",
    "        STOP_WORDS.add(words)\n",
    "    \n",
    "    return STOP_WORDS\n",
    "\n",
    "\n",
    "def check_top_vocab(df, text_col, pos_tag):\n",
    "    \n",
    "    nlp = spacy.load('en_core_web_lg')\n",
    "    cleaned_tokens = df[text_col].to_list()\n",
    "    cleaned_sent = [\" \".join(sent) for sent in cleaned_tokens]\n",
    "    \n",
    "    pos_count = {}\n",
    "    for doc in nlp.pipe(cleaned_sent):\n",
    "        for token in doc:\n",
    "\n",
    "            if token.is_stop or token.is_punct or token.is_space:\n",
    "                continue\n",
    "\n",
    "            if token.pos_ == 'PROPN':\n",
    "\n",
    "                if token.lemma_ in pos_count:\n",
    "                    pos_count[token.lemma_] += 1\n",
    "                else:\n",
    "                    pos_count[token.lemma_] = 1\n",
    "\n",
    "    return pos_count\n",
    "\n",
    "\n",
    "def limit_to_one_news(news):\n",
    "    if news.shape[0] > 1:\n",
    "        if 'topStory' in news['priority'].unique():\n",
    "            news = news.loc[news['headline'] == \"topStory\"]\n",
    "        if news.shape[0] > 1:\n",
    "            news = news.sample(n=1, random_state=12)\n",
    "    return news"
   ]
  },
  {
   "cell_type": "code",
   "execution_count": 16,
   "metadata": {
    "ExecuteTime": {
     "end_time": "2019-09-05T12:18:04.208368Z",
     "start_time": "2019-09-05T12:18:03.492255Z"
    }
   },
   "outputs": [
    {
     "name": "stdout",
     "output_type": "stream",
     "text": [
      "(52298, 10)\n"
     ]
    }
   ],
   "source": [
    "data_path = \"inputs/\"\n",
    "news_df, price_df = load_data(data_path)\n",
    "stock_news_df = combine_stock_news(news_df, price_df)\n",
    "#to_csv(data_path)\n",
    "print(stock_news_df.shape)"
   ]
  },
  {
   "cell_type": "code",
   "execution_count": 17,
   "metadata": {
    "ExecuteTime": {
     "end_time": "2019-09-05T12:18:39.228405Z",
     "start_time": "2019-09-05T12:18:06.745574Z"
    }
   },
   "outputs": [],
   "source": [
    "filtered_tokens = spacy_tokenize(stock_news_df, 'headline')\n",
    "filtered_tokens_first_sent = spacy_tokenize(stock_news_df, \"first_sent\")"
   ]
  },
  {
   "cell_type": "code",
   "execution_count": 18,
   "metadata": {
    "ExecuteTime": {
     "end_time": "2019-09-05T12:18:41.840426Z",
     "start_time": "2019-09-05T12:18:41.761484Z"
    }
   },
   "outputs": [],
   "source": [
    "transformed_news_df = stock_news_df.copy()\n",
    "transformed_news_df['headlines_tokens'] = filtered_tokens\n",
    "transformed_news_df['first_sent_tokens'] = filtered_tokens_first_sent\n",
    "transformed_news_df['head_tok_len'] = transformed_news_df['headlines_tokens'].map(lambda x: len(x))\n",
    "transformed_news_df['sent_tok_len'] = transformed_news_df['first_sent_tokens'].map(lambda x: len(x))"
   ]
  },
  {
   "cell_type": "code",
   "execution_count": 19,
   "metadata": {
    "ExecuteTime": {
     "end_time": "2019-09-05T12:19:00.288907Z",
     "start_time": "2019-09-05T12:18:44.285639Z"
    },
    "scrolled": false
   },
   "outputs": [],
   "source": [
    "transformed_news_df = transformed_news_df.groupby(['tickers', 'date']).apply(limit_to_one_news)\n",
    "transformed_news_df['combined_tokens'] = transformed_news_df.headlines_tokens \\\n",
    "    + transformed_news_df.first_sent_tokens\n",
    "transformed_news_df['combined_len'] = transformed_news_df.head_tok_len \\\n",
    "    + transformed_news_df.sent_tok_len\n",
    "transformed_news_df = transformed_news_df.droplevel([0,1])"
   ]
  },
  {
   "cell_type": "code",
   "execution_count": 20,
   "metadata": {
    "ExecuteTime": {
     "end_time": "2019-09-05T12:19:02.832161Z",
     "start_time": "2019-09-05T12:19:02.828172Z"
    }
   },
   "outputs": [
    {
     "data": {
      "text/plain": [
       "(6660, 16)"
      ]
     },
     "execution_count": 20,
     "metadata": {},
     "output_type": "execute_result"
    }
   ],
   "source": [
    "transformed_news_df.shape"
   ]
  },
  {
   "cell_type": "code",
   "execution_count": 21,
   "metadata": {
    "ExecuteTime": {
     "end_time": "2019-09-05T12:19:30.154658Z",
     "start_time": "2019-09-05T12:19:05.332020Z"
    }
   },
   "outputs": [
    {
     "name": "stdout",
     "output_type": "stream",
     "text": [
      "top 10 VERBs [('google', 235), ('plc', 88), ('america', 86), ('mart', 81), ('novartis', 81), ('china', 67), ('inbev', 66), ('hsbc', 63), ('honeywell', 59), ('donald', 52), ('obama', 52), ('merck', 51), ('j&j', 49), ('citigroup', 48), ('fargo', 47), ('busch', 44), ('walmart', 43), ('mastercard', 43), ('california', 41), ('verizon', 41), ('citi', 39), ('corp', 36), ('exxonmobil', 36), ('toyota', 35), ('john', 34), ('washington', 31), ('nike', 29), ('paypal', 29), ('hathaway', 28), ('exxon', 28), ('cnbc', 27), ('warner', 27), ('warren', 26), ('sec', 25), ('merrill', 24), ('unilever', 24), ('frances', 23), ('texas', 23), ('amazon', 22), ('jpmorgan', 22), ('mcdonalds', 22), ('jd.com', 21), ('lynch', 21), ('europe', 19), ('canada', 19), ('july', 19), ('roche', 19), ('janssen', 19), ('j.p', 19), ('james', 18)]\n"
     ]
    }
   ],
   "source": [
    "pos_count =  check_top_vocab(transformed_news_df, \"combined_tokens\", \"NOUN\")\n",
    "print(\"top 10 VERBs {}\".format(sorted(pos_count.items(), key=lambda kv: kv[1], reverse=True)[:50]))"
   ]
  },
  {
   "cell_type": "code",
   "execution_count": 22,
   "metadata": {
    "ExecuteTime": {
     "end_time": "2019-09-05T12:19:32.801576Z",
     "start_time": "2019-09-05T12:19:32.711817Z"
    }
   },
   "outputs": [
    {
     "data": {
      "image/png": "[encoded data removed]",
      "text/plain": [
       "<Figure size 432x288 with 1 Axes>"
      ]
     },
     "metadata": {
      "needs_background": "light"
     },
     "output_type": "display_data"
    }
   ],
   "source": [
    "sns.countplot(transformed_news_df['signal']);"
   ]
  },
  {
   "cell_type": "code",
   "execution_count": 23,
   "metadata": {
    "ExecuteTime": {
     "end_time": "2019-09-05T12:19:35.364795Z",
     "start_time": "2019-09-05T12:19:35.360807Z"
    }
   },
   "outputs": [
    {
     "data": {
      "text/plain": [
       "71"
      ]
     },
     "execution_count": 23,
     "metadata": {},
     "output_type": "execute_result"
    }
   ],
   "source": [
    "transformed_news_df[\"combined_len\"].max()"
   ]
  },
  {
   "cell_type": "code",
   "execution_count": 27,
   "metadata": {
    "ExecuteTime": {
     "end_time": "2019-09-05T12:20:15.847791Z",
     "start_time": "2019-09-05T12:20:15.843768Z"
    }
   },
   "outputs": [],
   "source": [
    "data_types_df = transformed_news_df.dtypes.astype(str).to_dict()\n",
    "with open('inputs/data_type_key.json', 'w', encoding='utf-8') as f:\n",
    "    json.dump(data_types_df, f)"
   ]
  },
  {
   "cell_type": "code",
   "execution_count": 26,
   "metadata": {
    "ExecuteTime": {
     "end_time": "2019-09-05T12:19:49.179392Z",
     "start_time": "2019-09-05T12:19:49.004860Z"
    }
   },
   "outputs": [],
   "source": [
    "\n",
    "transformed_news_df.to_csv(\"inputs/preprocessed_news.csv\")"
   ]
  },
  {
   "cell_type": "code",
   "execution_count": null,
   "metadata": {},
   "outputs": [],
   "source": []
  }
 ],
 "metadata": {
  "kernelspec": {
   "display_name": "Python 3",
   "language": "python",
   "name": "python3"
  },
  "language_info": {
   "codemirror_mode": {
    "name": "ipython",
    "version": 3
   },
   "file_extension": ".py",
   "mimetype": "text/x-python",
   "name": "python",
   "nbconvert_exporter": "python",
   "pygments_lexer": "ipython3",
   "version": "3.7.3"
  },
  "toc": {
   "base_numbering": 1,
   "nav_menu": {},
   "number_sections": true,
   "sideBar": true,
   "skip_h1_title": false,
   "title_cell": "Table of Contents",
   "title_sidebar": "Contents",
   "toc_cell": true,
   "toc_position": {},
   "toc_section_display": true,
   "toc_window_display": false
  },
  "varInspector": {
   "cols": {
    "lenName": 16,
    "lenType": 16,
    "lenVar": 40
   },
   "kernels_config": {
    "python": {
     "delete_cmd_postfix": "",
     "delete_cmd_prefix": "del ",
     "library": "var_list.py",
     "varRefreshCmd": "print(var_dic_list())"
    },
    "r": {
     "delete_cmd_postfix": ") ",
     "delete_cmd_prefix": "rm(",
     "library": "var_list.r",
     "varRefreshCmd": "cat(var_dic_list()) "
    }
   },
   "types_to_exclude": [
    "module",
    "function",
    "builtin_function_or_method",
    "instance",
    "_Feature"
   ],
   "window_display": false
  }
 },
 "nbformat": 4,
 "nbformat_minor": 2
}
