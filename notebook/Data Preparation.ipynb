{
 "cells": [
  {
   "cell_type": "markdown",
   "metadata": {
    "toc": true
   },
   "source": [
    "<h1>Table of Contents<span class=\"tocSkip\"></span></h1>\n",
    "<div class=\"toc\"><ul class=\"toc-item\"></ul></div>"
   ]
  },
  {
   "cell_type": "code",
   "execution_count": 4,
   "metadata": {
    "ExecuteTime": {
     "end_time": "2019-09-29T11:41:44.761223Z",
     "start_time": "2019-09-29T11:41:44.742677Z"
    }
   },
   "outputs": [],
   "source": [
    "import os\n",
    "import datetime\n",
    "import numpy as np\n",
    "import re\n",
    "import warnings\n",
    "import pandas as pd\n",
    "import calendar\n",
    "import pickle\n",
    "from spacy.lang.en.stop_words import STOP_WORDS\n",
    "from spacy.lang.en import English\n",
    "import spacy\n",
    "\n",
    "import matplotlib.pyplot as plt\n",
    "import seaborn as sns\n",
    "\n",
    "warnings.filterwarnings(\"ignore\")"
   ]
  },
  {
   "cell_type": "code",
   "execution_count": 41,
   "metadata": {
    "ExecuteTime": {
     "end_time": "2019-09-29T12:32:30.781814Z",
     "start_time": "2019-09-29T12:32:30.762364Z"
    }
   },
   "outputs": [],
   "source": [
    "def load_data(data_path):\n",
    "    \n",
    "    stock_news_df = pd.read_csv(data_path + 'news_reuters.csv', header=None,\n",
    "                                names=['tickers', 'company', 'date', 'headline', 'first_sent', 'priority'])\n",
    "\n",
    "    with open(data_path + 'stockReturns.json') as f:\n",
    "        stock_price = json.load(f)    \n",
    "    stock_price_df = pd.DataFrame(stock_price)\n",
    "    \n",
    "    return stock_news_df, stock_price_df\n",
    "\n",
    "\n",
    "def transform_stock_price(price_df, duration):\n",
    "\n",
    "    transform_df = price_df[duration].apply(pd.Series)\n",
    "    transform_df = transform_df.stack().rename('price_change' + '_' + duration).reset_index()\n",
    "    transform_df.rename(columns={'level_0': 'tickers', 'level_1': 'date'}, inplace=True)\n",
    "    transform_df.date = transform_df.date.astype('int64')\n",
    "    \n",
    "    if duration == 'mid':\n",
    "        transform_df['signal'] = transform_df['price_change' + '_' + duration] \\\n",
    "        .map(lambda x: \"stay\" if -1 < x < 1 else (\"up\" if x > 1 else \"down\"))\n",
    "    return transform_df\n",
    "\n",
    "\n",
    "def combine_stock_news(news_df, price_df):\n",
    "    \n",
    "    combined_df = news_df.copy()\n",
    "    \n",
    "    durations = price_df.columns\n",
    "    for duration in durations:\n",
    "        price_duration_df = transform_stock_price(price_df, duration)\n",
    "        combined_df = pd.merge(left=combined_df, right=price_duration_df,\n",
    "                       on=['date', 'tickers'], how='inner')\n",
    "    return combined_df\n",
    "\n",
    "\n",
    "def to_csv(data_path):\n",
    "    \n",
    "    news_df, price_df = load_data(data_path)\n",
    "    \n",
    "    combined_df = combine_stock_news(news_df, price_df)\n",
    "    \n",
    "    combined_df.to_csv(data_path + \"news_price_df.csv\")\n",
    "    \n",
    "    \n",
    "\n",
    "def cleanup_text(sent):\n",
    "    \n",
    "    monthStrings = list(calendar.month_name)[1:] + list(calendar.month_abbr)[1:]\n",
    "    monthPattern = '|'.join(monthStrings)\n",
    "    sent = re.sub(r'\\s+', ' ', str(sent)).strip()\n",
    "    sent = re.sub(r'\\/+', '', sent)\n",
    "    sent = re.sub(r'U.S.', 'United States', sent)\n",
    "    sent = re.sub(r'CORRECTED-', '', sent)\n",
    "    sent = re.sub(r'^(\\W?[A-Z\\s\\d]+\\b-?)', '', sent)\n",
    "    sent = re.sub(r'^ ?\\W ', '', sent)\n",
    "    sent = re.sub(r'(\\s*-+\\s*[A-Za-z]+)$', '', sent)\n",
    "    sent = re.sub(r\"(\\'+[A-Z1-9]+\\'*)$\", '', sent)\n",
    "    sent = re.sub(r\"[$'|]+\", '', sent)\n",
    "    sent = re.sub(r'({}) \\d+'.format(monthPattern), '', sent)\n",
    "    \n",
    "    sent = sent.lower().strip()\n",
    "    \n",
    "    return sent\n",
    "\n",
    "\n",
    "def spacy_tokenize(df, col):\n",
    "    \n",
    "    nlp = English()\n",
    "    STOP_WORDS = construct_stop_words()\n",
    "    sentences = df[col].tolist()\n",
    "    docs = []\n",
    "    for sent in sentences:\n",
    "        docs.append(cleanup_text(sent))\n",
    "\n",
    "    def token_filter(token, stop_words):\n",
    "        return not (token.is_punct or token.is_stop or token.is_space)\n",
    "\n",
    "    try:\n",
    "        filtered_tokens = []\n",
    "        for doc in nlp.pipe(docs):\n",
    "            tokens = [tok.lemma_ for tok in doc if token_filter(tok, STOP_WORDS)]\n",
    "            tokens = [tok for tok in tokens if not re.search('[\\$1-9]+', tok)]\n",
    "            filtered_tokens.append(tokens)\n",
    "            \n",
    "        return filtered_tokens\n",
    "    except Exception as e:\n",
    "        raise e\n",
    "\n",
    "\n",
    "def construct_stop_words():\n",
    "    stop_words_list = [\"uk\", \"ceo\", \"apple\", \"wal\",  \"st\", \"q1\", \"q2\", \"q3\", \"q4\", \n",
    "                       \"bp\", \"wednesday\", \"tuesday\", \"monday\", \"thursday\", \"friday\", \"sept\", \"johnson\", \"inc\", \n",
    "                       \"david\", \"amazon.com\"]\n",
    "    \n",
    "    for words in stop_words_list:\n",
    "        STOP_WORDS.add(words)\n",
    "    \n",
    "    return STOP_WORDS\n",
    "\n",
    "\n",
    "def check_top_vocab(df, text_col, pos_tag):\n",
    "    \n",
    "    nlp = spacy.load('en_core_web_lg')\n",
    "    cleaned_tokens = df[text_col].to_list()\n",
    "    cleaned_sent = [\" \".join(sent) for sent in cleaned_tokens]\n",
    "    \n",
    "    pos_count = {}\n",
    "    for doc in nlp.pipe(cleaned_sent):\n",
    "        for token in doc:\n",
    "\n",
    "            if token.is_stop or token.is_punct or token.is_space:\n",
    "                continue\n",
    "\n",
    "            if token.pos_ == 'PROPN':\n",
    "\n",
    "                if token.lemma_ in pos_count:\n",
    "                    pos_count[token.lemma_] += 1\n",
    "                else:\n",
    "                    pos_count[token.lemma_] = 1\n",
    "\n",
    "    return pos_count\n",
    "\n",
    "\n",
    "def limit_to_one_news(news):\n",
    "    if news.shape[0] > 1:\n",
    "        if 'topStory' in news['priority'].unique():\n",
    "            news = news.loc[news['headline'] == \"topStory\"]\n",
    "        if news.shape[0] > 1:\n",
    "            news = news.sample(n=1, random_state=12)\n",
    "    return news"
   ]
  },
  {
   "cell_type": "code",
   "execution_count": 36,
   "metadata": {
    "ExecuteTime": {
     "end_time": "2019-09-29T12:28:36.502048Z",
     "start_time": "2019-09-29T12:28:31.515723Z"
    }
   },
   "outputs": [],
   "source": [
    "data_path = \"../inputs/\"\n",
    "news_df, price_df = load_data(data_path)"
   ]
  },
  {
   "cell_type": "code",
   "execution_count": 39,
   "metadata": {
    "ExecuteTime": {
     "end_time": "2019-09-29T12:30:09.373667Z",
     "start_time": "2019-09-29T12:30:02.390905Z"
    }
   },
   "outputs": [
    {
     "name": "stdout",
     "output_type": "stream",
     "text": [
      "(148195, 10)\n"
     ]
    }
   ],
   "source": [
    "stock_news_df = combine_stock_news(news_df, price_df)\n",
    "#to_csv(data_path)\n",
    "print(stock_news_df.shape)"
   ]
  },
  {
   "cell_type": "code",
   "execution_count": 42,
   "metadata": {
    "ExecuteTime": {
     "end_time": "2019-09-29T12:34:22.978150Z",
     "start_time": "2019-09-29T12:32:41.267588Z"
    }
   },
   "outputs": [],
   "source": [
    "filtered_tokens = spacy_tokenize(stock_news_df, 'headline')\n",
    "filtered_tokens_first_sent = spacy_tokenize(stock_news_df, \"first_sent\")"
   ]
  },
  {
   "cell_type": "code",
   "execution_count": 43,
   "metadata": {
    "ExecuteTime": {
     "end_time": "2019-09-29T12:34:34.156032Z",
     "start_time": "2019-09-29T12:34:33.946163Z"
    }
   },
   "outputs": [],
   "source": [
    "transformed_news_df = stock_news_df.copy()\n",
    "transformed_news_df['headlines_tokens'] = filtered_tokens\n",
    "transformed_news_df['first_sent_tokens'] = filtered_tokens_first_sent\n",
    "transformed_news_df['head_tok_len'] = transformed_news_df['headlines_tokens'].map(lambda x: len(x))\n",
    "transformed_news_df['sent_tok_len'] = transformed_news_df['first_sent_tokens'].map(lambda x: len(x))"
   ]
  },
  {
   "cell_type": "code",
   "execution_count": 44,
   "metadata": {
    "ExecuteTime": {
     "end_time": "2019-09-29T12:35:41.456895Z",
     "start_time": "2019-09-29T12:34:45.031112Z"
    },
    "scrolled": false
   },
   "outputs": [],
   "source": [
    "transformed_news_df = transformed_news_df.groupby(['tickers', 'date']).apply(limit_to_one_news)\n",
    "transformed_news_df['combined_tokens'] = transformed_news_df.headlines_tokens \\\n",
    "    + transformed_news_df.first_sent_tokens\n",
    "transformed_news_df['combined_len'] = transformed_news_df.head_tok_len \\\n",
    "    + transformed_news_df.sent_tok_len\n",
    "transformed_news_df = transformed_news_df.droplevel([0,1])"
   ]
  },
  {
   "cell_type": "code",
   "execution_count": 45,
   "metadata": {
    "ExecuteTime": {
     "end_time": "2019-09-29T12:35:52.628645Z",
     "start_time": "2019-09-29T12:35:52.622801Z"
    }
   },
   "outputs": [
    {
     "data": {
      "text/plain": [
       "(24863, 16)"
      ]
     },
     "execution_count": 45,
     "metadata": {},
     "output_type": "execute_result"
    }
   ],
   "source": [
    "transformed_news_df.shape"
   ]
  },
  {
   "cell_type": "code",
   "execution_count": 46,
   "metadata": {
    "ExecuteTime": {
     "end_time": "2019-09-29T12:37:47.483181Z",
     "start_time": "2019-09-29T12:36:24.419758Z"
    }
   },
   "outputs": [
    {
     "name": "stdout",
     "output_type": "stream",
     "text": [
      "top 10 VERBs [('plc', 463), ('google', 305), ('america', 221), ('china', 217), ('fitch', 143), ('john', 137), ('july', 136), ('bbb+', 119), ('ebay', 107), ('sachs', 100), ('amgen', 96), ('washington', 94), ('obama', 92), ('barclays', 91), ('california', 90), ('bristol', 89), ('sanofi', 88), ('goldman', 88), ('europe', 83), ('michael', 82), ('viacom', 81), ('a+', 74), ('november', 73), ('cnbc', 72), ('s.a', 70), ('myers', 70), ('james', 69), ('spain', 66), ('j.c', 65), ('corp', 63), ('allergan', 62), ('ibm', 62), ('citigroup', 61), ('frances', 60), ('january', 60), ('canada', 60), ('ryanair', 60), ('japan', 59), ('ford', 58), ('halliburton', 58), ('kkr', 58), ('nokia', 58), ('hsbc', 57), ('texas', 57), ('william', 56), ('valero', 56), ('robert', 54), ('mart', 53), ('icahn', 53), ('hess', 53)]\n"
     ]
    }
   ],
   "source": [
    "pos_count =  check_top_vocab(transformed_news_df, \"combined_tokens\", \"NOUN\")\n",
    "print(\"top 10 VERBs {}\".format(sorted(pos_count.items(), key=lambda kv: kv[1], reverse=True)[:50]))"
   ]
  },
  {
   "cell_type": "code",
   "execution_count": 47,
   "metadata": {
    "ExecuteTime": {
     "end_time": "2019-09-29T12:37:58.694340Z",
     "start_time": "2019-09-29T12:37:58.546335Z"
    }
   },
   "outputs": [
    {
     "data": {
      "image/png": "[encoded data removed]",
      "text/plain": [
       "<Figure size 432x288 with 1 Axes>"
      ]
     },
     "metadata": {
      "needs_background": "light"
     },
     "output_type": "display_data"
    }
   ],
   "source": [
    "sns.countplot(transformed_news_df['signal']);"
   ]
  },
  {
   "cell_type": "code",
   "execution_count": 48,
   "metadata": {
    "ExecuteTime": {
     "end_time": "2019-09-29T12:38:09.941100Z",
     "start_time": "2019-09-29T12:38:09.922556Z"
    }
   },
   "outputs": [
    {
     "data": {
      "text/plain": [
       "count    24863.000000\n",
       "mean        24.564413\n",
       "std          9.745508\n",
       "min          0.000000\n",
       "25%         17.000000\n",
       "50%         24.000000\n",
       "75%         29.000000\n",
       "max        148.000000\n",
       "Name: combined_len, dtype: float64"
      ]
     },
     "execution_count": 48,
     "metadata": {},
     "output_type": "execute_result"
    }
   ],
   "source": [
    "transformed_news_df[\"combined_len\"].describe()"
   ]
  },
  {
   "cell_type": "code",
   "execution_count": 27,
   "metadata": {
    "ExecuteTime": {
     "end_time": "2019-09-05T12:20:15.847791Z",
     "start_time": "2019-09-05T12:20:15.843768Z"
    }
   },
   "outputs": [],
   "source": [
    "data_types_df = transformed_news_df.dtypes.astype(str).to_dict()\n",
    "with open('inputs/data_type_key.json', 'w', encoding='utf-8') as f:\n",
    "    json.dump(data_types_df, f)"
   ]
  },
  {
   "cell_type": "code",
   "execution_count": 26,
   "metadata": {
    "ExecuteTime": {
     "end_time": "2019-09-05T12:19:49.179392Z",
     "start_time": "2019-09-05T12:19:49.004860Z"
    }
   },
   "outputs": [],
   "source": [
    "\n",
    "transformed_news_df.to_csv(\"inputs/preprocessed_news.csv\")"
   ]
  },
  {
   "cell_type": "code",
   "execution_count": null,
   "metadata": {},
   "outputs": [],
   "source": []
  }
 ],
 "metadata": {
  "kernelspec": {
   "display_name": "Python 3",
   "language": "python",
   "name": "python3"
  },
  "language_info": {
   "codemirror_mode": {
    "name": "ipython",
    "version": 3
   },
   "file_extension": ".py",
   "mimetype": "text/x-python",
   "name": "python",
   "nbconvert_exporter": "python",
   "pygments_lexer": "ipython3",
   "version": "3.7.3"
  },
  "toc": {
   "base_numbering": 1,
   "nav_menu": {},
   "number_sections": true,
   "sideBar": true,
   "skip_h1_title": false,
   "title_cell": "Table of Contents",
   "title_sidebar": "Contents",
   "toc_cell": true,
   "toc_position": {},
   "toc_section_display": true,
   "toc_window_display": false
  },
  "varInspector": {
   "cols": {
    "lenName": 16,
    "lenType": 16,
    "lenVar": 40
   },
   "kernels_config": {
    "python": {
     "delete_cmd_postfix": "",
     "delete_cmd_prefix": "del ",
     "library": "var_list.py",
     "varRefreshCmd": "print(var_dic_list())"
    },
    "r": {
     "delete_cmd_postfix": ") ",
     "delete_cmd_prefix": "rm(",
     "library": "var_list.r",
     "varRefreshCmd": "cat(var_dic_list()) "
    }
   },
   "types_to_exclude": [
    "module",
    "function",
    "builtin_function_or_method",
    "instance",
    "_Feature"
   ],
   "window_display": false
  }
 },
 "nbformat": 4,
 "nbformat_minor": 2
}
