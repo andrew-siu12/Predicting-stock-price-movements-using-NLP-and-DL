{
 "cells": [
  {
   "cell_type": "markdown",
   "metadata": {
    "toc": true
   },
   "source": [
    "<h1>Table of Contents<span class=\"tocSkip\"></span></h1>\n",
    "<div class=\"toc\"><ul class=\"toc-item\"><li><span><a href=\"#Modelling\" data-toc-modified-id=\"Modelling-1\"><span class=\"toc-item-num\">1&nbsp;&nbsp;</span>Modelling</a></span></li><li><span><a href=\"#Basic-MLP\" data-toc-modified-id=\"Basic-MLP-2\"><span class=\"toc-item-num\">2&nbsp;&nbsp;</span>Basic MLP</a></span></li></ul></div>"
   ]
  },
  {
   "cell_type": "code",
   "execution_count": 1,
   "metadata": {
    "ExecuteTime": {
     "end_time": "2019-09-10T12:52:36.179542Z",
     "start_time": "2019-09-10T12:52:29.912508Z"
    }
   },
   "outputs": [
    {
     "name": "stdout",
     "output_type": "stream",
     "text": [
      "[name: \"/device:CPU:0\"\n",
      "device_type: \"CPU\"\n",
      "memory_limit: 268435456\n",
      "locality {\n",
      "}\n",
      "incarnation: 16041283509116965127\n",
      ", name: \"/device:GPU:0\"\n",
      "device_type: \"GPU\"\n",
      "memory_limit: 6672629760\n",
      "locality {\n",
      "  bus_id: 1\n",
      "  links {\n",
      "  }\n",
      "}\n",
      "incarnation: 10095192725992032046\n",
      "physical_device_desc: \"device: 0, name: GeForce GTX 1070 Ti, pci bus id: 0000:01:00.0, compute capability: 6.1\"\n",
      "]\n"
     ]
    }
   ],
   "source": [
    "import pandas as pd\n",
    "import numpy as np\n",
    "import tensorflow as tf\n",
    "from sklearn.preprocessing import MultiLabelBinarizer, StandardScaler\n",
    "from sklearn.model_selection import train_test_split\n",
    "from tensorflow import keras\n",
    "from tensorflow.python.client import device_lib\n",
    "from tensorflow.keras.preprocessing.text import Tokenizer\n",
    "from tensorflow.keras.preprocessing.sequence import pad_sequences\n",
    "from tensorflow.keras.layers import Dense, LSTM, Embedding, Bidirectional, GRU\n",
    "from tensorflow.keras.layers import Flatten, Dropout, Input, concatenate, BatchNormalization\n",
    "from tensorflow.keras import backend as K\n",
    "\n",
    "import re\n",
    "import gc\n",
    "from ast import literal_eval\n",
    "\n",
    "print(device_lib.list_local_devices())"
   ]
  },
  {
   "cell_type": "code",
   "execution_count": 2,
   "metadata": {
    "ExecuteTime": {
     "end_time": "2019-09-10T12:52:36.272276Z",
     "start_time": "2019-09-10T12:52:36.181479Z"
    }
   },
   "outputs": [],
   "source": [
    "price_df = pd.read_csv(\"../inputs/preprocessed_news.csv\")"
   ]
  },
  {
   "cell_type": "code",
   "execution_count": 3,
   "metadata": {
    "ExecuteTime": {
     "end_time": "2019-09-10T12:52:36.536146Z",
     "start_time": "2019-09-10T12:52:36.273246Z"
    }
   },
   "outputs": [],
   "source": [
    "cols = ['price_change_short', \"price_change_mid\", \"price_change_long\"]\n",
    "labels = price_df['signal']\n",
    "labels = pd.get_dummies(columns=['signal'], data=labels)\n",
    "price_feat_data = price_df[cols]\n",
    "aux_shape = len(price_feat_data.columns)\n",
    "docs = price_df[\"combined_tokens\"].apply(literal_eval)"
   ]
  },
  {
   "cell_type": "code",
   "execution_count": 4,
   "metadata": {
    "ExecuteTime": {
     "end_time": "2019-09-10T12:52:36.542954Z",
     "start_time": "2019-09-10T12:52:36.539050Z"
    }
   },
   "outputs": [
    {
     "name": "stdout",
     "output_type": "stream",
     "text": [
      "3\n"
     ]
    }
   ],
   "source": [
    "print(aux_shape)"
   ]
  },
  {
   "cell_type": "code",
   "execution_count": 5,
   "metadata": {
    "ExecuteTime": {
     "end_time": "2019-09-10T12:52:36.562474Z",
     "start_time": "2019-09-10T12:52:36.546878Z"
    }
   },
   "outputs": [
    {
     "data": {
      "text/plain": [
       "count    6660.000000\n",
       "mean       25.458709\n",
       "std         8.469920\n",
       "min         0.000000\n",
       "25%        19.000000\n",
       "50%        26.000000\n",
       "75%        30.000000\n",
       "max        71.000000\n",
       "Name: combined_len, dtype: float64"
      ]
     },
     "execution_count": 5,
     "metadata": {},
     "output_type": "execute_result"
    }
   ],
   "source": [
    "price_df['combined_len'].describe()"
   ]
  },
  {
   "cell_type": "code",
   "execution_count": 6,
   "metadata": {
    "ExecuteTime": {
     "end_time": "2019-09-10T12:52:36.567354Z",
     "start_time": "2019-09-10T12:52:36.563450Z"
    }
   },
   "outputs": [],
   "source": [
    "max_words = 40"
   ]
  },
  {
   "cell_type": "code",
   "execution_count": 7,
   "metadata": {
    "ExecuteTime": {
     "end_time": "2019-09-10T12:52:36.577113Z",
     "start_time": "2019-09-10T12:52:36.568330Z"
    }
   },
   "outputs": [],
   "source": [
    "def load_embedding(filename):\n",
    "    # load embedding into memory, skip first line\n",
    "    print(\"Loading Glove pre-trained model\")\n",
    "    # create a map of words to vectors\n",
    "    embedding = dict()\n",
    "    with open(filename, \"r\", encoding=\"utf-8\") as file:\n",
    "        for line in file:\n",
    "            parts = line.split()\n",
    "            word = parts[0]\n",
    "            vector = np.array(parts[1:], dtype=\"float32\")\n",
    "            # key is string word, value is numpy array for vector\n",
    "            embedding[word] = vector\n",
    "    \n",
    "    return embedding\n",
    "\n",
    "\n",
    "def tokenize_and_pad(docs, max_words=max_words):\n",
    "    \n",
    "    t = Tokenizer()\n",
    "    t.fit_on_texts(docs)\n",
    "    docs = pad_sequences(sequences=t.texts_to_sequences(docs), maxlen=max_words, padding='post')\n",
    "    \n",
    "    vocab = t.word_index\n",
    "    \n",
    "    return docs, vocab\n",
    "\n",
    "\n",
    "# create a weight matrix for the Embedding layer from a loaded embedding\n",
    "def get_weight_matrix(embedding, vocab, embed_dim=100):\n",
    "    # total vocabulary size plus 0 for unknown words\n",
    "    words_not_found = []\n",
    "    \n",
    "    vocab_size = len(vocab) + 1\n",
    "    # define weight matrix dimensions with all 0\n",
    "    weight_matrix = np.zeros((vocab_size, embed_dim))\n",
    "    # step vocab, store vectors using the Tokenizer's integer mapping\n",
    "    for word, i in vocab.items():\n",
    "        embedding_vector = embedding.get(word)\n",
    "        if embedding_vector is not None:\n",
    "            weight_matrix[i] = embedding_vector\n",
    "        else:\n",
    "            words_not_found.append(word)\n",
    "            \n",
    "    return weight_matrix, words_not_found\n",
    "\n",
    "\n",
    "# # get vectors in the right order\n",
    "# # embedding_vectors = get_weight_matrix(raw_embedding, t.word_index)"
   ]
  },
  {
   "cell_type": "code",
   "execution_count": 8,
   "metadata": {
    "ExecuteTime": {
     "end_time": "2019-09-10T12:52:36.762761Z",
     "start_time": "2019-09-10T12:52:36.579065Z"
    }
   },
   "outputs": [],
   "source": [
    "docs, vocab = tokenize_and_pad(docs)"
   ]
  },
  {
   "cell_type": "code",
   "execution_count": 9,
   "metadata": {
    "ExecuteTime": {
     "end_time": "2019-09-10T12:52:47.569860Z",
     "start_time": "2019-09-10T12:52:36.763757Z"
    }
   },
   "outputs": [
    {
     "name": "stdout",
     "output_type": "stream",
     "text": [
      "Loading Glove pre-trained model\n",
      "number of null embeddings 2003\n"
     ]
    }
   ],
   "source": [
    "embedding_index = load_embedding(\"../inputs/glove.6B.100d.txt\")\n",
    "embedding_matrix, words_not_found = get_weight_matrix(embedding_index, vocab)\n",
    "print(f\"number of null embeddings {np.sum(np.sum(embedding_matrix, axis=1) == 0)}\")"
   ]
  },
  {
   "cell_type": "code",
   "execution_count": 10,
   "metadata": {
    "ExecuteTime": {
     "end_time": "2019-09-10T12:52:47.726534Z",
     "start_time": "2019-09-10T12:52:47.571813Z"
    }
   },
   "outputs": [
    {
     "data": {
      "text/plain": [
       "80"
      ]
     },
     "execution_count": 10,
     "metadata": {},
     "output_type": "execute_result"
    }
   ],
   "source": [
    "del embedding_index\n",
    "gc.collect()"
   ]
  },
  {
   "cell_type": "code",
   "execution_count": 11,
   "metadata": {
    "ExecuteTime": {
     "end_time": "2019-09-10T12:52:47.769506Z",
     "start_time": "2019-09-10T12:52:47.728486Z"
    }
   },
   "outputs": [],
   "source": [
    "price_train, price_test, label_train, label_test, docs_train, docs_test = train_test_split(\n",
    "    price_feat_data, labels, docs,\n",
    "    stratify=labels,\n",
    "    test_size=0.2,\n",
    "    random_state=42)"
   ]
  },
  {
   "cell_type": "code",
   "execution_count": 12,
   "metadata": {
    "ExecuteTime": {
     "end_time": "2019-09-10T12:52:47.777285Z",
     "start_time": "2019-09-10T12:52:47.770453Z"
    }
   },
   "outputs": [],
   "source": [
    "aux_features = ['price_change_short', \"price_change_mid\", \"price_change_long\"]\n",
    "scaler = StandardScaler()\n",
    "price_train = scaler.fit_transform(price_train)\n",
    "price_test = scaler.transform(price_test)"
   ]
  },
  {
   "cell_type": "code",
   "execution_count": 13,
   "metadata": {
    "ExecuteTime": {
     "end_time": "2019-09-10T12:52:47.784118Z",
     "start_time": "2019-09-10T12:52:47.779239Z"
    }
   },
   "outputs": [],
   "source": [
    "## define roc auc as our evaluation \n",
    "\n",
    "# https://stackoverflow.com/questions/41032551/how-to-compute-receiving-operating-characteristic-roc-and-auc-in-keras\n",
    "def roc_auc(y_true, y_pred):\n",
    "    value, update_op = tf.contrib.metrics.streaming_auc(y_pred, y_true)\n",
    "\n",
    "    # find all variables created for this metric\n",
    "    metric_vars = [i for i in tf.local_variables() if 'auc_roc' in i.name.split('/')[1]]\n",
    "\n",
    "    # Add metric variables to GLOBAL_VARIABLES collection.\n",
    "    # They will be initialized for new session.\n",
    "    for v in metric_vars:\n",
    "        tf.add_to_collection(tf.GraphKeys.GLOBAL_VARIABLES, v)\n",
    "\n",
    "    # force to update metric values\n",
    "    with tf.control_dependencies([update_op]):\n",
    "        value = tf.identity(value)\n",
    "        return value"
   ]
  },
  {
   "cell_type": "markdown",
   "metadata": {},
   "source": [
    "## Modelling"
   ]
  },
  {
   "cell_type": "markdown",
   "metadata": {},
   "source": [
    "## Basic MLP"
   ]
  },
  {
   "cell_type": "code",
   "execution_count": 14,
   "metadata": {
    "ExecuteTime": {
     "end_time": "2019-09-10T12:52:47.790950Z",
     "start_time": "2019-09-10T12:52:47.785094Z"
    }
   },
   "outputs": [
    {
     "ename": "SyntaxError",
     "evalue": "invalid syntax (<ipython-input-14-21987976bdcf>, line 1)",
     "output_type": "error",
     "traceback": [
      "\u001b[1;36m  File \u001b[1;32m\"<ipython-input-14-21987976bdcf>\"\u001b[1;36m, line \u001b[1;32m1\u001b[0m\n\u001b[1;33m    def build_model()\u001b[0m\n\u001b[1;37m                     ^\u001b[0m\n\u001b[1;31mSyntaxError\u001b[0m\u001b[1;31m:\u001b[0m invalid syntax\n"
     ]
    }
   ],
   "source": [
    "def build_model()"
   ]
  }
 ],
 "metadata": {
  "kernelspec": {
   "display_name": "Python 3",
   "language": "python",
   "name": "python3"
  },
  "language_info": {
   "codemirror_mode": {
    "name": "ipython",
    "version": 3
   },
   "file_extension": ".py",
   "mimetype": "text/x-python",
   "name": "python",
   "nbconvert_exporter": "python",
   "pygments_lexer": "ipython3",
   "version": "3.7.3"
  },
  "toc": {
   "base_numbering": 1,
   "nav_menu": {},
   "number_sections": true,
   "sideBar": true,
   "skip_h1_title": false,
   "title_cell": "Table of Contents",
   "title_sidebar": "Contents",
   "toc_cell": true,
   "toc_position": {},
   "toc_section_display": true,
   "toc_window_display": false
  },
  "varInspector": {
   "cols": {
    "lenName": 16,
    "lenType": 16,
    "lenVar": 40
   },
   "kernels_config": {
    "python": {
     "delete_cmd_postfix": "",
     "delete_cmd_prefix": "del ",
     "library": "var_list.py",
     "varRefreshCmd": "print(var_dic_list())"
    },
    "r": {
     "delete_cmd_postfix": ") ",
     "delete_cmd_prefix": "rm(",
     "library": "var_list.r",
     "varRefreshCmd": "cat(var_dic_list()) "
    }
   },
   "types_to_exclude": [
    "module",
    "function",
    "builtin_function_or_method",
    "instance",
    "_Feature"
   ],
   "window_display": false
  }
 },
 "nbformat": 4,
 "nbformat_minor": 2
}
